{
  "nbformat": 4,
  "nbformat_minor": 0,
  "metadata": {
    "colab": {
      "provenance": [],
      "authorship_tag": "ABX9TyOyYaLm/QXHlLXdMymYOdcF"
    },
    "kernelspec": {
      "name": "python3",
      "display_name": "Python 3"
    },
    "language_info": {
      "name": "python"
    }
  },
  "cells": [
    {
      "cell_type": "code",
      "execution_count": 6,
      "metadata": {
        "colab": {
          "base_uri": "https://localhost:8080/"
        },
        "id": "AiKTBcFDaI7k",
        "outputId": "0bbcb330-2550-448f-d597-b9b04fdd8a9a"
      },
      "outputs": [
        {
          "output_type": "stream",
          "name": "stdout",
          "text": [
            "Pipeline ETL concluído. Dados transformados foram salvos em 'dados_transformados.csv'.\n"
          ]
        }
      ],
      "source": [
        "import pandas as pd\n",
        "\n",
        "# Etapa de Extração\n",
        "dados_originais = pd.read_csv('dados_originais.csv')\n",
        "\n",
        "# Etapa de Transformação\n",
        "# Adicionando 20 anos à idade de cada pessoa\n",
        "dados_transformados = dados_originais.copy()\n",
        "dados_transformados['Idade'] = dados_transformados['Idade'] + 20\n",
        "\n",
        "# Etapa de Carregamento\n",
        "dados_transformados.to_csv('dados_transformados.csv', index=False)\n",
        "\n",
        "print(\"Pipeline ETL concluído. Dados transformados foram salvos em 'dados_transformados.csv'.\")\n"
      ]
    },
    {
      "cell_type": "code",
      "source": [
        "from google.colab import drive\n",
        "drive.mount('/content/drive')"
      ],
      "metadata": {
        "id": "X7jmRr9jc5pb"
      },
      "execution_count": null,
      "outputs": []
    }
  ]
}